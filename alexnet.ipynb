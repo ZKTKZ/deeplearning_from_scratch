{
  "nbformat": 4,
  "nbformat_minor": 0,
  "metadata": {
    "colab": {
      "name": "alexnet",
      "provenance": [],
      "private_outputs": true,
      "collapsed_sections": [],
      "include_colab_link": true
    },
    "kernelspec": {
      "name": "python3",
      "display_name": "Python 3"
    }
  },
  "cells": [
    {
      "cell_type": "markdown",
      "metadata": {
        "id": "view-in-github",
        "colab_type": "text"
      },
      "source": [
        "<a href=\"https://colab.research.google.com/github/ZKTKZ/deeplearning_from_scratch/blob/master/alexnet.ipynb\" target=\"_parent\"><img src=\"https://colab.research.google.com/assets/colab-badge.svg\" alt=\"Open In Colab\"/></a>"
      ]
    },
    {
      "cell_type": "code",
      "metadata": {
        "id": "UwWN_eFJ-lOM",
        "colab_type": "code",
        "colab": {}
      },
      "source": [
        "# Data augs\n",
        "\n",
        "import random\n",
        "from PIL import Image\n",
        "x = random.randint(0,32)\n",
        "y = random.randint(0,32)\n",
        "im = Image.open(\"/content/-2362.7422_292.png\")\n",
        "box = (x,y,80+x,80+y)\n",
        "im.crop(box)"
      ],
      "execution_count": null,
      "outputs": []
    },
    {
      "cell_type": "code",
      "metadata": {
        "id": "7YFvQBzuHLNs",
        "colab_type": "code",
        "colab": {}
      },
      "source": [
        "trainset = torchvision.datasets.ImageNet(root='./data', split='train', download=None)\n",
        "trainloader = torch.utils.data.DataLoader(trainset, batch_size=128)\n",
        "testset = torchvision.datasets.ImageNet(root='./data', split='val', download=None)\n",
        "testloader = torch.utils.data.DataLoader(testset)"
      ],
      "execution_count": null,
      "outputs": []
    },
    {
      "cell_type": "code",
      "metadata": {
        "id": "lWdIZH6U-uDD",
        "colab_type": "code",
        "colab": {}
      },
      "source": [
        "# 1. initialize neural network\n",
        "\n",
        "import torch\n",
        "import torchvision\n",
        "import torch.nn as nn\n",
        "import torch.optim as optim\n",
        "import torch.nn.functional as F\n",
        "\n",
        "# LRN is slightly different -- n / 5 scaling\n",
        "# Stride is only specified for 1st conv layer ... assuming for next\n",
        "\n",
        "class Net(nn.Module):\n",
        "\tdef __init__(self):\n",
        "\t\tsuper(Net, self).__init__()\n",
        "\t\tself.conv1 = nn.Conv2d(3, 96, (11, 11, 3), 4)\n",
        "\t\tself.conv2 = nn.Conv2d(96, 256, (5,5,48), 4)\n",
        "\t\tself.conv3 = nn.Conv2d(256, 384, (3,3,256), 4)\n",
        "\t\tself.conv4 = nn.Conv2d(384, 384, (3,3,192), 4)\n",
        "\t\tself.conv5 = nn.Conv2d(384, 256, (3,3,192), 4)\n",
        "\t\tself.fc1 = nn.Linear(256, 4096)\n",
        "\t\tself.fc2 = nn.Linear(4096, 4096)\n",
        "\t\tself.fc3 = nn.Linear(4096, 1000)\n",
        "\t\n",
        "\tdef forward(self, x):\n",
        "\t\tx = self.conv1(x)\n",
        "\n",
        "\t\tx = nn.LocalResponseNorm(x, size=5,k=2)\n",
        "\t\tx = F.max_pool2d(x, 3, 2)\n",
        "\t\tx = F.relu(x)\n",
        "\n",
        "\t\tx = self.conv2(x)\n",
        "\t\tx = nn.LocalResponseNorm(x, size=5,k=2)\n",
        "\t\tx = F.max_pool2d(x, 3, 2)\n",
        "\t\tx = F.relu(x)\n",
        "\n",
        "\t\tx = self.conv3(x)\n",
        "\t\tx = F.relu(x)\n",
        "\n",
        "\t\tx = self.conv4(x)\n",
        "\t\tx = F.relu(x)\n",
        "\n",
        "\t\tx = self.conv5(x)\n",
        "\t\tx = F.max_pool2d(x, 3, 2)\n",
        "\t\tx = F.relu(x)\n",
        "\n",
        "\t\tx = self.fc1(x)\n",
        "\t\tx = F.dropout(0.5)\n",
        "\t\t\n",
        "\t\tx = self.fc2(x)\n",
        "\t\tx = F.dropout(0.5)\n",
        "\t\t\n",
        "\t\tx = self.fc3(x)\n",
        "\t\treturn F.softmax(x)\n",
        "\n",
        "net = Net()\n",
        "\n",
        "#ImageNet is non trival to access,\n",
        "#so training loop was abandoned "
      ],
      "execution_count": null,
      "outputs": []
    }
  ]
}